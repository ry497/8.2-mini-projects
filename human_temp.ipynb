{
 "cells": [
  {
   "cell_type": "markdown",
   "metadata": {},
   "source": [
    "# What is the True Normal Human Body Temperature? \n",
    "\n",
    "#### Background\n",
    "\n",
    "The mean normal body temperature was held to be 37$^{\\circ}$C or 98.6$^{\\circ}$F for more than 120 years since it was first conceptualized and reported by Carl Wunderlich in a famous 1868 book. But, is this value statistically correct?"
   ]
  },
  {
   "cell_type": "markdown",
   "metadata": {},
   "source": [
    "<div class=\"span5 alert alert-info\">\n",
    "<h3>Exercises</h3>\n",
    "\n",
    "<p>In this exercise, you will analyze a dataset of human body temperatures and employ the concepts of hypothesis testing, confidence intervals, and statistical significance.</p>\n",
    "\n",
    "<p>Answer the following questions <b>in this notebook below and submit to your Github account</b>.</p> \n",
    "\n",
    "<ol>\n",
    "<li>  Is the distribution of body temperatures normal? \n",
    "    <ul>\n",
    "    <li> Although this is not a requirement for CLT to hold (read CLT carefully), it gives us some peace of mind that the population may also be normally distributed if we assume that this sample is representative of the population.\n",
    "    </ul>\n",
    "<li>  Is the sample size large? Are the observations independent?\n",
    "    <ul>\n",
    "    <li> Remember that this is a condition for the CLT, and hence the statistical tests we are using, to apply.\n",
    "    </ul>\n",
    "<li>  Is the true population mean really 98.6 degrees F?\n",
    "    <ul>\n",
    "    <li> Would you use a one-sample or two-sample test? Why?\n",
    "    <li> In this situation, is it appropriate to use the $t$ or $z$ statistic? \n",
    "    <li> Now try using the other test. How is the result be different? Why?\n",
    "    </ul>\n",
    "<li>  At what temperature should we consider someone's temperature to be \"abnormal\"?\n",
    "    <ul>\n",
    "    <li> Start by computing the margin of error and confidence interval.\n",
    "    </ul>\n",
    "<li>  Is there a significant difference between males and females in normal temperature?\n",
    "    <ul>\n",
    "    <li> What test did you use and why?\n",
    "    <li> Write a story with your conclusion in the context of the original problem.\n",
    "    </ul>\n",
    "</ol>\n",
    "\n",
    "You can include written notes in notebook cells using Markdown: \n",
    "   - In the control panel at the top, choose Cell > Cell Type > Markdown\n",
    "   - Markdown syntax: http://nestacms.com/docs/creating-content/markdown-cheat-sheet\n",
    "\n",
    "#### Resources\n",
    "\n",
    "+ Information and data sources: http://www.amstat.org/publications/jse/datasets/normtemp.txt, http://www.amstat.org/publications/jse/jse_data_archive.htm\n",
    "+ Markdown syntax: http://nestacms.com/docs/creating-content/markdown-cheat-sheet\n",
    "\n",
    "****\n",
    "</div>"
   ]
  },
  {
   "cell_type": "code",
   "execution_count": 31,
   "metadata": {
    "collapsed": true
   },
   "outputs": [],
   "source": [
    "import pandas as pd\n",
    "import numpy as np\n",
    "import matplotlib.pyplot as plt\n",
    "from scipy.stats import norm\n",
    "\n",
    "import seaborn as sns\n",
    "sns.set()\n",
    "\n",
    "df = pd.read_csv('data/human_body_temperature.csv')"
   ]
  },
  {
   "cell_type": "code",
   "execution_count": 32,
   "metadata": {},
   "outputs": [
    {
     "name": "stdout",
     "output_type": "stream",
     "text": [
      "<class 'pandas.core.frame.DataFrame'>\n",
      "RangeIndex: 130 entries, 0 to 129\n",
      "Data columns (total 3 columns):\n",
      "temperature    130 non-null float64\n",
      "gender         130 non-null object\n",
      "heart_rate     130 non-null float64\n",
      "dtypes: float64(2), object(1)\n",
      "memory usage: 3.1+ KB\n"
     ]
    },
    {
     "data": {
      "text/html": [
       "<div>\n",
       "<style>\n",
       "    .dataframe thead tr:only-child th {\n",
       "        text-align: right;\n",
       "    }\n",
       "\n",
       "    .dataframe thead th {\n",
       "        text-align: left;\n",
       "    }\n",
       "\n",
       "    .dataframe tbody tr th {\n",
       "        vertical-align: top;\n",
       "    }\n",
       "</style>\n",
       "<table border=\"1\" class=\"dataframe\">\n",
       "  <thead>\n",
       "    <tr style=\"text-align: right;\">\n",
       "      <th></th>\n",
       "      <th>temperature</th>\n",
       "      <th>gender</th>\n",
       "      <th>heart_rate</th>\n",
       "    </tr>\n",
       "  </thead>\n",
       "  <tbody>\n",
       "    <tr>\n",
       "      <th>0</th>\n",
       "      <td>99.3</td>\n",
       "      <td>F</td>\n",
       "      <td>68.0</td>\n",
       "    </tr>\n",
       "    <tr>\n",
       "      <th>1</th>\n",
       "      <td>98.4</td>\n",
       "      <td>F</td>\n",
       "      <td>81.0</td>\n",
       "    </tr>\n",
       "    <tr>\n",
       "      <th>2</th>\n",
       "      <td>97.8</td>\n",
       "      <td>M</td>\n",
       "      <td>73.0</td>\n",
       "    </tr>\n",
       "    <tr>\n",
       "      <th>3</th>\n",
       "      <td>99.2</td>\n",
       "      <td>F</td>\n",
       "      <td>66.0</td>\n",
       "    </tr>\n",
       "    <tr>\n",
       "      <th>4</th>\n",
       "      <td>98.0</td>\n",
       "      <td>F</td>\n",
       "      <td>73.0</td>\n",
       "    </tr>\n",
       "  </tbody>\n",
       "</table>\n",
       "</div>"
      ],
      "text/plain": [
       "   temperature gender  heart_rate\n",
       "0         99.3      F        68.0\n",
       "1         98.4      F        81.0\n",
       "2         97.8      M        73.0\n",
       "3         99.2      F        66.0\n",
       "4         98.0      F        73.0"
      ]
     },
     "execution_count": 32,
     "metadata": {},
     "output_type": "execute_result"
    }
   ],
   "source": [
    "#Take a look at the dataset first\n",
    "df.info()\n",
    "df.head()\n"
   ]
  },
  {
   "cell_type": "code",
   "execution_count": 48,
   "metadata": {},
   "outputs": [
    {
     "data": {
      "image/png": "[encoded data removed]",
      "text/plain": [
       "<matplotlib.figure.Figure at 0x1a15b20358>"
      ]
     },
     "metadata": {},
     "output_type": "display_data"
    }
   ],
   "source": [
    "#plot the ecdf \n",
    "def ecdf(data):\n",
    "    n = len(data)\n",
    "    x = np.sort(data)\n",
    "    y = np.arange(1, len(x)+1)/ n\n",
    "    return x,y\n",
    "\n",
    "x,y=ecdf(df['temperature'])\n",
    "_=plt.plot(x,y,marker='.',linestyle='none')\n",
    "_=plt.xlabel('temperature/F')\n",
    "_=plt.ylabel('ecdf')\n",
    "plt.margins(0.02)\n",
    "\n",
    "#Compare the percentile to ecdf\n",
    "percentile=[2.5,25,50,75,97.5]\n",
    "p_temp=np.percentile(df['temperature'],percentile)\n",
    "p_temp\n",
    "_ = plt.plot(p_temp, np.array(percentile)/100,marker='D', color='red',\n",
    "         linestyle='none')\n",
    "plt.show()"
   ]
  },
  {
   "cell_type": "code",
   "execution_count": 49,
   "metadata": {},
   "outputs": [
    {
     "data": {
      "image/png": "[encoded data removed]",
      "text/plain": [
       "<matplotlib.figure.Figure at 0x1a15a09a58>"
      ]
     },
     "metadata": {},
     "output_type": "display_data"
    }
   ],
   "source": [
    "#Check the mean and std\n",
    "\n",
    "mean_temp=np.mean(df['temperature'])\n",
    "std_temp=np.std(df['temperature'])\n",
    "\n",
    "\n",
    "#Sample out a normal distribution with the parameters\n",
    "samples=np.random.normal(mean_temp,std_temp,size=130)\n",
    "x_norm,y_norm=ecdf(samples)\n",
    "\n",
    "#Now compare the cdf and the actual distribution ecdf\n",
    "_ = plt.plot(x_norm, y_norm)\n",
    "_ = plt.plot(x, y, marker='.', linestyle='none')\n",
    "plt.margins(0.02)\n",
    "plt.show()"
   ]
  },
  {
   "cell_type": "code",
   "execution_count": 45,
   "metadata": {},
   "outputs": [
    {
     "data": {
      "image/png": "[encoded data removed]",
      "text/plain": [
       "<matplotlib.figure.Figure at 0x1a16088940>"
      ]
     },
     "metadata": {},
     "output_type": "display_data"
    }
   ],
   "source": [
    "#temperature should be discrete data so I'm using histogram to see the distribution\n",
    "#It seems like a normal distribution at first glance but it's neccessary to validate\n",
    "_=plt.hist(df['temperature'],bins=20,normed=True)\n",
    "_=plt.xlabel('temperature/F')\n",
    "_=plt.ylabel('number of people')\n",
    "\n",
    "#plot the pdf of normal distribution\n",
    "xmin, xmax = plt.xlim()\n",
    "x = np.linspace(xmin, xmax, 130)\n",
    "p = norm.pdf(x, mean_temp, std_temp)\n",
    "plt.plot(x, p, '.', linewidth=2)\n",
    "\n",
    "plt.show()"
   ]
  },
  {
   "cell_type": "code",
   "execution_count": null,
   "metadata": {},
   "outputs": [],
   "source": [
    "#This plot shows the distribution of body temperature is normal.\n",
    "#Sample size n=130 is large enough. The obeservations are independent.\n"
   ]
  },
  {
   "cell_type": "code",
   "execution_count": 85,
   "metadata": {},
   "outputs": [
    {
     "data": {
      "text/plain": [
       "0.0"
      ]
     },
     "execution_count": 85,
     "metadata": {},
     "output_type": "execute_result"
    }
   ],
   "source": [
    "#One-sample test: take 98.6F as the test statistic. That means we shift all data in df such that the mean is 98.6\n",
    "trans_mean=df['temperature']- mean_temp + 98.6\n",
    "bs_replicates=draw_bs_reps(trans_mean,np.mean,130)\n",
    "#Calculate the p-value\n",
    "p=np.sum(bs_replicates <= mean_temp)/130\n",
    "p"
   ]
  },
  {
   "cell_type": "code",
   "execution_count": 68,
   "metadata": {},
   "outputs": [
    {
     "data": {
      "text/plain": [
       "0.0"
      ]
     },
     "execution_count": 68,
     "metadata": {},
     "output_type": "execute_result"
    }
   ],
   "source": [
    "#Now try two-sample test\n",
    "#We've already calculated the mean_temp before\n",
    "#Shift both two samples \n",
    "trans1_mean=df['temperature']- mean_temp + 98.6\n",
    "trans2_mean=df['temperature']- mean_temp + mean_temp\n",
    "\n",
    "bs_replicates_1 = draw_bs_reps(trans1_mean, np.mean, 130)\n",
    "bs_replicates_2 = draw_bs_reps(trans2_mean, np.mean,130)\n",
    "\n",
    "bs_replicates = bs_replicates_1 - bs_replicates_2\n",
    "\n",
    "# Compute and print p-value: p\n",
    "p = np.sum(bs_replicates>=mean_temp) / 130\n",
    "p"
   ]
  },
  {
   "cell_type": "code",
   "execution_count": null,
   "metadata": {
    "collapsed": true
   },
   "outputs": [],
   "source": [
    "#p-value is small enough for both one-sample and two-sample tests"
   ]
  },
  {
   "cell_type": "code",
   "execution_count": 55,
   "metadata": {},
   "outputs": [],
   "source": [
    "z_critical = norm.ppf(q = 0.975) "
   ]
  },
  {
   "cell_type": "code",
   "execution_count": 64,
   "metadata": {},
   "outputs": [],
   "source": [
    "#Calculate the margin of error using z=std/sqrt(size of sample)\n",
    "margin_of_error=1.96*std_temp/(np.sqrt(130))"
   ]
  },
  {
   "cell_type": "code",
   "execution_count": 8,
   "metadata": {},
   "outputs": [
    {
     "data": {
      "image/png": "[encoded data removed]",
      "text/plain": [
       "<matplotlib.figure.Figure at 0x1a15a5ab00>"
      ]
     },
     "metadata": {},
     "output_type": "display_data"
    }
   ],
   "source": [
    "#Calculate confidence interval\n",
    "def bootstrap_replicate_1d(data, func):\n",
    "    return func(np.random.choice(data, size=len(data)))\n",
    "\n",
    "def draw_bs_reps(data,func,size=1):\n",
    "    bs_replicates=np.empty(size)\n",
    "    for i in range(size):\n",
    "        bs_replicates[i]=bootstrap_replicate_1d(data,func)\n",
    "    return bs_replicates\n",
    "\n",
    "bs_replicates=draw_bs_reps(df['temperature'],np.mean,size=10000)\n",
    "sem=np.std(df['temperature'])/np.sqrt(len(df['temperature']))\n",
    "bs_std=np.std(bs_replicates)\n",
    "\n",
    "_ = plt.hist(bs_replicates, bins=50, normed=True)\n",
    "_ = plt.xlabel('mean temperature')\n",
    "_ = plt.ylabel('PDF')\n",
    "plt.show()"
   ]
  },
  {
   "cell_type": "code",
   "execution_count": 100,
   "metadata": {},
   "outputs": [
    {
     "data": {
      "text/plain": [
       "array([ 98.45226923,  98.74082692])"
      ]
     },
     "execution_count": 100,
     "metadata": {},
     "output_type": "execute_result"
    }
   ],
   "source": [
    "\n",
    "np.percentile(bs_replicates,[2.5,97.5])\n",
    "\n",
    "#temperatures outside this range would be considered 'abnormal'\n"
   ]
  },
  {
   "cell_type": "code",
   "execution_count": 80,
   "metadata": {},
   "outputs": [
    {
     "data": {
      "image/png": "[encoded data removed]",
      "text/plain": [
       "<matplotlib.figure.Figure at 0x1a16617ac8>"
      ]
     },
     "metadata": {},
     "output_type": "display_data"
    },
    {
     "data": {
      "text/plain": [
       "(98.39384615384613, 98.1046153846154)"
      ]
     },
     "execution_count": 80,
     "metadata": {},
     "output_type": "execute_result"
    }
   ],
   "source": [
    "#Plot to see outliers for each gender\n",
    "np.percentile(df['temperature'],[25,50,75])\n",
    "_=sns.boxplot(x='gender',y='temperature',data=df)\n",
    "_=plt.xlabel('gender')\n",
    "_=plt.ylabel('temperature')\n",
    "plt.show()\n",
    "\n"
   ]
  },
  {
   "cell_type": "code",
   "execution_count": 96,
   "metadata": {},
   "outputs": [],
   "source": [
    "#Use one-sample test\n",
    "#Mean of each gender\n",
    "f=df[df['gender'] == 'F']\n",
    "f_mean=np.mean(f.temperature)\n",
    "m=df[df['gender'] == 'M']\n",
    "m_mean=np.mean(m.temperature)"
   ]
  },
  {
   "cell_type": "code",
   "execution_count": 98,
   "metadata": {},
   "outputs": [
    {
     "data": {
      "text/plain": [
       "1.0"
      ]
     },
     "execution_count": 98,
     "metadata": {},
     "output_type": "execute_result"
    }
   ],
   "source": [
    "#Shift male mean to the mean of the female\n",
    "m_trans= m['temperature'] - m_mean + f_mean\n",
    "\n",
    "bs_replicates_m = draw_bs_reps(m_trans, np.mean, 65)\n",
    "\n",
    "# Compute and print p-value: p\n",
    "p = np.sum(bs_replicates_m >= (m_mean-f_mean)) / 65\n",
    "p"
   ]
  },
  {
   "cell_type": "code",
   "execution_count": 101,
   "metadata": {},
   "outputs": [],
   "source": [
    "#Conclusion\n",
    "#From the analysis we got answers to the questions at first\n",
    "#1. Based on comparision of PDF and normal distribution plot, it's easy to conclude the data of human temperature\n",
    "#is normally distributed\n",
    "\n",
    "#2. The size of dataset is big enough and observations are independent\n",
    "\n",
    "#3. According to this dataset, the mean of temperature is 98.2F. Comparing to 98.6F, p-value is small enough for us to\n",
    "#reject the null hypothesis.\n",
    "#4. Temperatures outside the range of [98.45226923,  98.74082692] should be considered abnormal\n",
    "#5. Female mean temperature at each percentile is higher than male. With more outliers female temperature has larger\n",
    "#variance than male."
   ]
  },
  {
   "cell_type": "code",
   "execution_count": null,
   "metadata": {
    "collapsed": true
   },
   "outputs": [],
   "source": []
  }
 ],
 "metadata": {
  "kernelspec": {
   "display_name": "Python 3",
   "language": "python",
   "name": "python3"
  },
  "language_info": {
   "codemirror_mode": {
    "name": "ipython",
    "version": 3
   },
   "file_extension": ".py",
   "mimetype": "text/x-python",
   "name": "python",
   "nbconvert_exporter": "python",
   "pygments_lexer": "ipython3",
   "version": "3.6.3"
  }
 },
 "nbformat": 4,
 "nbformat_minor": 1
}
